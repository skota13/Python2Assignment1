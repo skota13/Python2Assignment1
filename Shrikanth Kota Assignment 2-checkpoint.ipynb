{
 "cells": [
  {
   "cell_type": "code",
   "execution_count": null,
   "metadata": {},
   "outputs": [],
   "source": [
    "ASSG2 - LIST OF COMA SEPARATED NUMBERS FROM CONSOLE"
   ]
  },
  {
   "cell_type": "code",
   "execution_count": 1,
   "metadata": {},
   "outputs": [
    {
     "name": "stdout",
     "output_type": "stream",
     "text": [
      "Enter Numbers with Coma: 1,2,3,4,5,6,7,8,9\n"
     ]
    },
    {
     "data": {
      "text/plain": [
       "['1', '2', '3', '4', '5', '6', '7', '8', '9']"
      ]
     },
     "execution_count": 1,
     "metadata": {},
     "output_type": "execute_result"
    }
   ],
   "source": [
    "i = input(\"Enter Numbers with Coma: \")\n",
    "i.split(\",\")"
   ]
  },
  {
   "cell_type": "code",
   "execution_count": null,
   "metadata": {},
   "outputs": [],
   "source": [
    "ASSG2 - PRINT IN THE FORMAT GIVEN BELOW"
   ]
  },
  {
   "cell_type": "code",
   "execution_count": 42,
   "metadata": {},
   "outputs": [
    {
     "name": "stdout",
     "output_type": "stream",
     "text": [
      ".\n",
      "\n",
      "..\n",
      "\n",
      "...\n",
      "\n",
      "....\n",
      "\n",
      ".....\n",
      "\n",
      "....\n",
      "\n",
      "...\n",
      "\n",
      "..\n",
      "\n",
      ".\n",
      "\n"
     ]
    }
   ],
   "source": [
    "i = (('.'*i) for i in range(1,5)) \n",
    "for x in list(i):\n",
    "    print(x+\"\\n\")\n",
    "j = (('.'*j) for j in range(5,0,-1))\n",
    "for y in list(j):\n",
    "    print(y+\"\\n\")"
   ]
  },
  {
   "cell_type": "code",
   "execution_count": 157,
   "metadata": {},
   "outputs": [
    {
     "name": "stdout",
     "output_type": "stream",
     "text": [
      ".\n",
      "\n",
      "..\n",
      "\n",
      "...\n",
      "\n",
      "....\n",
      "\n",
      ".....\n",
      "\n",
      "....\n",
      "\n",
      "...\n",
      "\n",
      "..\n",
      "\n",
      ".\n",
      "\n"
     ]
    }
   ],
   "source": [
    "i = [('.'*i) for i in range(1,6)] \n",
    "for x in i[:4:]:\n",
    "    print(x+\"\\n\")\n",
    "for x in i[::-1]:\n",
    "    print(x+\"\\n\")"
   ]
  },
  {
   "cell_type": "code",
   "execution_count": null,
   "metadata": {},
   "outputs": [],
   "source": [
    "ASSG2 - REVERSING THE STRING"
   ]
  },
  {
   "cell_type": "code",
   "execution_count": 160,
   "metadata": {},
   "outputs": [
    {
     "name": "stdout",
     "output_type": "stream",
     "text": [
      "ENTER STRING: AcadGild\n",
      "dliGdacA\n"
     ]
    }
   ],
   "source": [
    "i = input(\"ENTER STRING: \")\n",
    "print(i[::-1])"
   ]
  },
  {
   "cell_type": "code",
   "execution_count": null,
   "metadata": {},
   "outputs": [],
   "source": []
  },
  {
   "cell_type": "code",
   "execution_count": 71,
   "metadata": {},
   "outputs": [
    {
     "name": "stdout",
     "output_type": "stream",
     "text": [
      "WE, THE PEOPLE OF INDIA,\n",
      "\thaving solemnly resolved to constitute India into a SOVEREIGN,!\n",
      "\t\tSOCIALIST, SECULAR, DEMOCRATIC REPUBLIC\n",
      "\t\t and to secure to all its citizens\n"
     ]
    }
   ],
   "source": [
    "strings={'INDIA,':'INDIA,\\n\\t','SOVEREIGN,':'SOVEREIGN,!\\n\\t\\t','REPUBLIC':'REPUBLIC\\n\\t\\t'}\n",
    "stringsIn = 'WE, THE PEOPLE OF INDIA,having solemnly resolved to constitute India into a SOVEREIGN,SOCIALIST, SECULAR, DEMOCRATIC REPUBLIC and to secure to all its citizens'\n",
    "for x,y in strings.items():\n",
    "    stringsIn = stringsIn.replace(x,y)\n",
    "print(stringsIn)"
   ]
  },
  {
   "cell_type": "code",
   "execution_count": null,
   "metadata": {},
   "outputs": [],
   "source": []
  }
 ],
 "metadata": {
  "kernelspec": {
   "display_name": "Python 3",
   "language": "python",
   "name": "python3"
  },
  "language_info": {
   "codemirror_mode": {
    "name": "ipython",
    "version": 3
   },
   "file_extension": ".py",
   "mimetype": "text/x-python",
   "name": "python",
   "nbconvert_exporter": "python",
   "pygments_lexer": "ipython3",
   "version": "3.6.5"
  }
 },
 "nbformat": 4,
 "nbformat_minor": 2
}
